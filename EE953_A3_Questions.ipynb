{
  "nbformat": 4,
  "nbformat_minor": 0,
  "metadata": {
    "colab": {
      "provenance": [],
      "include_colab_link": true
    },
    "kernelspec": {
      "name": "python3",
      "display_name": "Python 3"
    },
    "language_info": {
      "name": "python"
    }
  },
  "cells": [
    {
      "cell_type": "markdown",
      "metadata": {
        "id": "view-in-github",
        "colab_type": "text"
      },
      "source": [
        "<a href=\"https://colab.research.google.com/github/rakeshrocky58008/IITK-ML/blob/Q2/EE953_A3_Questions.ipynb\" target=\"_parent\"><img src=\"https://colab.research.google.com/assets/colab-badge.svg\" alt=\"Open In Colab\"/></a>"
      ]
    },
    {
      "cell_type": "markdown",
      "source": [
        "\n",
        "Solve the following problem using the bisection algorithm. First implement a routine to calculate the numerical derivative of the function, and then use any root finding algorithm in order to minimize it.\n",
        "$$\n",
        "\\min_{x} \\|\\mathbf{A}_0 + \\mathbf{A}_1 x + \\mathbf{A}_2 x^2 + \\mathbf{A}_3 x^3\\|_2\n",
        "$$\n",
        "A skeleton of the code is provided. Your answer should be $x^\\star$ up to a tolerance of $10^{-10}$."
      ],
      "metadata": {
        "id": "0hdFJVn5P7dC"
      }
    },
    {
      "cell_type": "code",
      "execution_count": null,
      "metadata": {
        "id": "f_XVBtYsOj3K"
      },
      "outputs": [],
      "source": [
        "import numpy as np\n",
        "import matplotlib.pyplot as plt\n",
        "\n",
        "# Define the size of our square matrices to be 3x3.\n",
        "matrix_size = 3\n",
        "\n",
        "np.random.seed(3)\n",
        "\n",
        "# Generate four random 3x3 matrices.\n",
        "# np.random.randn generates samples from the \"standard normal\" distribution.\n",
        "A_0 = np.random.randn(matrix_size, matrix_size)\n",
        "A_1 = np.random.randn(matrix_size, matrix_size)\n",
        "A_2 = np.random.randn(matrix_size, matrix_size)\n",
        "A_3 = np.random.randn(matrix_size, matrix_size)\n",
        "\n",
        "# Define a function f(x) that calculates the 2-norm of a matrix A(x).\n",
        "# A(x) is a polynomial matrix function of x: A_0 + x*A_1 + x^2*A_2 + x^3*A_3.\n",
        "def f(x):\n",
        "    Ax = A_0 + x * A_1 + x**2 * A_2 + x**3 * A_3\n",
        "    return np.linalg.norm(Ax, ord=2)\n",
        "\n",
        "# Define a function to approximate the derivative of f at x using the central difference method.\n",
        "def df(x, h=1e-10):\n",
        "    # define here\n",
        "\n",
        "\n",
        "# Optional: plot the function and its derivative\n",
        "\n",
        "# Implement any of bisection method, secant method, or dekker method\n",
        "def bisection_method(a, b, tol=1e-5, max_iter=1000):\n",
        "  #\n",
        "\n",
        "def secant_method(x0, x1, tol=1e-5, max_iter=1000):\n",
        "  #\n",
        "\n",
        "def dekker_method(a,b,tol=1e-5, max_iter=1000):\n",
        "  #\n",
        "\n",
        "# Define the interval\n",
        "a = -2  # Start of interval\n",
        "b = 2  # End of interval\n",
        "\n",
        "# Find the root\n"
      ]
    },
    {
      "cell_type": "markdown",
      "source": [
        "Implement the Nelder-mead algorithm on the function $f(x,y) = (x-1)^2 + (y-x^2)^2$ starting at initial point $(-1,-1)$. Use the provided skeleton code (which also provides an initialization strategy and stopping criteria)."
      ],
      "metadata": {
        "id": "AjG3feAZTIYY"
      }
    },
    {
      "cell_type": "code",
      "source": [
        "from numpy import arange, meshgrid\n",
        "from matplotlib import pyplot as plt\n",
        "import numpy as np\n",
        "import copy\n",
        "\n",
        "# objective function\n",
        "def f(x):\n",
        "  # Rosenbrock function\n",
        "  return (x[0]-1)**2 + 1*(x[1]-x[0]**2)**2\n",
        "\n",
        "xinit = [-1.0,-1.0]    # initialization\n",
        "\n",
        "maxiter = 100\n",
        "\n",
        "# Implement Nelder mead\n",
        "n = len(xinit)\n",
        "prev_best = f(xinit)\n",
        "no_impr = 0   # count iterations without improvement\n",
        "res = [[xinit, prev_best]]\n",
        "\n",
        "for i in range(n):\n",
        "  u = xinit.copy()\n",
        "  u[i] = u[i] + 1\n",
        "  res.append([u, f(u)])\n",
        "\n",
        "\n",
        "for iter in range(maxiter):\n",
        "  res.sort(key=lambda x: x[1])\n",
        "  best = res[0][1]\n",
        "\n",
        "  print('...best so far:', best)\n",
        "\n",
        "  if best < prev_best - 1e-6:\n",
        "      no_impr = 0\n",
        "      prev_best = best\n",
        "  else:\n",
        "      no_impr += 1\n",
        "\n",
        "  if no_impr >= 10:\n",
        "    print(res[0])\n",
        "    break\n",
        "\n",
        "  x0 = np.mean([t[0] for t in res[:-1]], axis=0)\n",
        "\n",
        "  # reflection\n",
        "  xr = #\n",
        "  rscore = #\n",
        "  if res[0][1] <= rscore < res[-2][1]:\n",
        "    res[-1] = [xr, rscore]\n",
        "    print('reflection')\n",
        "    continue\n",
        "\n",
        "  # expansion\n",
        "  if rscore < res[0][1]:\n",
        "    xe = #\n",
        "    escore = #\n",
        "    res[-1] = [xe, escore] if escore < rscore else [xr, rscore]\n",
        "    print('expansion')\n",
        "    continue\n",
        "\n",
        "  # contraction\n",
        "  if rscore < res[-1][1]:\n",
        "    xc = #\n",
        "    cscore = #\n",
        "    if cscore < rscore:\n",
        "      res[-1] = [xc, cscore]\n",
        "      print('contraction (out)')\n",
        "      continue\n",
        "  else:\n",
        "    xc = #\n",
        "    cscore = #\n",
        "    if cscore < res[-1][1]:\n",
        "      res[-1] = [xc, cscore]\n",
        "      print('contraction (in)')\n",
        "      continue\n",
        "\n",
        "  # reduction\n",
        "  res =\n",
        "  print('reduction')"
      ],
      "metadata": {
        "id": "a6M1GV2dTLT6"
      },
      "execution_count": null,
      "outputs": []
    },
    {
      "cell_type": "markdown",
      "source": [
        "Consider the dual number code introduced in the slides. Define sine and cosine such that the given code works. Do NOT use Taylor series expansion of sine and cosine since we do not want to incur any truncation errors."
      ],
      "metadata": {
        "id": "0ZsgBr4MlsAG"
      }
    },
    {
      "cell_type": "code",
      "source": [],
      "metadata": {
        "id": "WSU_CoX3ltrq"
      },
      "execution_count": null,
      "outputs": []
    },
    {
      "cell_type": "code",
      "execution_count": null,
      "metadata": {
        "colab": {
          "base_uri": "https://localhost:8080/"
        },
        "id": "be7_N4dJIZEY",
        "outputId": "e6e00ad8-978e-4d9f-e136-b336327e16d3"
      },
      "outputs": [
        {
          "output_type": "stream",
          "name": "stdout",
          "text": [
            "f(x) =  1.1453019413887564 f'(x) = -2.0952284050216665\n"
          ]
        }
      ],
      "source": [
        "from math import sin, cos\n",
        "class Dual:\n",
        "    def __init__(self, a, b=0):\n",
        "        if isinstance(a, Dual):\n",
        "            self.a, self.b = a.a, a.b\n",
        "        else:\n",
        "            self.a, self.b = a, b\n",
        "\n",
        "    def __str__(self):\n",
        "        return f\"Dual({self.a}, {self.b})\"\n",
        "\n",
        "    def __add__(self, other):\n",
        "        other = Dual(other)\n",
        "        new_a = self.a + other.a\n",
        "        new_b = self.b + other.b\n",
        "        return Dual(new_a, new_b)\n",
        "\n",
        "    def __sub__(self, other):\n",
        "        other = Dual(other)\n",
        "        new_a = self.a - other.a\n",
        "        new_b = self.b - other.b\n",
        "        return Dual(new_a, new_b)\n",
        "\n",
        "    def __mul__(self, other):\n",
        "        other = Dual(other)\n",
        "        new_a = self.a * other.a\n",
        "        new_b = self.b * other.a + self.a * other.b\n",
        "        return Dual(new_a, new_b)\n",
        "\n",
        "    def __truediv__(self, other):\n",
        "        other = Dual(other)\n",
        "        if other.a == 0:\n",
        "            raise ZeroDivisionError(\"Division by zero\")\n",
        "        new_a = self.a / other.a\n",
        "        new_b = (self.b * other.a - self.a * other.b) / (other.a ** 2)\n",
        "        return Dual(new_a, new_b)\n",
        "\n",
        "def cube(x):\n",
        "    return x * x * x\n",
        "\n",
        "def sine(x):\n",
        "  #\n",
        "\n",
        "def cosine(x):\n",
        "  #\n",
        "\n",
        "def sqrt(x):\n",
        "    t = x\n",
        "    for _ in range(10):\n",
        "        t = (t + x / t) / 2\n",
        "    return t\n",
        "\n",
        "f = lambda x: cosine(sqrt(x)) + sine(cube(x))\n",
        "\n",
        "df = f(Dual(2.0,1))\n",
        "\n",
        "print('f(x) = ',df.a,'f\\'(x) =',df.b)"
      ]
    }
  ]
}