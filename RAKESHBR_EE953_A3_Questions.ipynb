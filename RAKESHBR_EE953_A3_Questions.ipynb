{
  "nbformat": 4,
  "nbformat_minor": 0,
  "metadata": {
    "colab": {
      "provenance": [],
      "include_colab_link": true
    },
    "kernelspec": {
      "name": "python3",
      "display_name": "Python 3"
    },
    "language_info": {
      "name": "python"
    }
  },
  "cells": [
    {
      "cell_type": "markdown",
      "metadata": {
        "id": "view-in-github",
        "colab_type": "text"
      },
      "source": [
        "<a href=\"https://colab.research.google.com/github/rakeshrocky58008/IITK-ML/blob/Q2/RAKESHBR_EE953_A3_Questions.ipynb\" target=\"_parent\"><img src=\"https://colab.research.google.com/assets/colab-badge.svg\" alt=\"Open In Colab\"/></a>"
      ]
    },
    {
      "cell_type": "markdown",
      "source": [
        "\n",
        "Solve the following problem using the bisection algorithm. First implement a routine to calculate the numerical derivative of the function, and then use any root finding algorithm in order to minimize it.\n",
        "$$\n",
        "\\min_{x} \\|\\mathbf{A}_0 + \\mathbf{A}_1 x + \\mathbf{A}_2 x^2 + \\mathbf{A}_3 x^3\\|_2\n",
        "$$\n",
        "A skeleton of the code is provided. Your answer should be $x^\\star$ up to a tolerance of $10^{-10}$."
      ],
      "metadata": {
        "id": "0hdFJVn5P7dC"
      }
    },
    {
      "cell_type": "code",
      "execution_count": 10,
      "metadata": {
        "id": "f_XVBtYsOj3K",
        "colab": {
          "base_uri": "https://localhost:8080/"
        },
        "outputId": "231eb5fe-577c-4633-d981-6c22ed020945"
      },
      "outputs": [
        {
          "output_type": "stream",
          "name": "stdout",
          "text": [
            "Root of the derivative (minimum): 0.3029811382293701\n"
          ]
        }
      ],
      "source": [
        "import numpy as np\n",
        "import matplotlib.pyplot as plt\n",
        "\n",
        "# Define the size of our square matrices to be 3x3.\n",
        "matrix_size = 3\n",
        "\n",
        "np.random.seed(3)\n",
        "\n",
        "# Generate four random 3x3 matrices.\n",
        "# np.random.randn generates samples from the \"standard normal\" distribution.\n",
        "A_0 = np.random.randn(matrix_size, matrix_size)\n",
        "A_1 = np.random.randn(matrix_size, matrix_size)\n",
        "A_2 = np.random.randn(matrix_size, matrix_size)\n",
        "A_3 = np.random.randn(matrix_size, matrix_size)\n",
        "\n",
        "# Define a function f(x) that calculates the 2-norm of a matrix A(x).\n",
        "# A(x) is a polynomial matrix function of x: A_0 + x*A_1 + x^2*A_2 + x^3*A_3.\n",
        "def f(x):\n",
        "    Ax = A_0 + x * A_1 + x**2 * A_2 + x**3 * A_3\n",
        "    return np.linalg.norm(Ax, ord=2)\n",
        "\n",
        "# Define a function to approximate the derivative of f at x using the central difference method.\n",
        "def df(x, h=1e-10):\n",
        "    return (f(x + h) - f(x - h)) / (2 * h)\n",
        "\n",
        "# Bisection Method for Root Finding\n",
        "def bisection_method(a, b, tol=1e-10, max_iter=1000):\n",
        "    if df(a) * df(b) >= 0:\n",
        "        raise ValueError(\"The function must have opposite signs at a and b.\")\n",
        "\n",
        "    iter_count = 0\n",
        "    while (b - a) / 2.0 > tol and iter_count < max_iter:\n",
        "        midpoint = (a + b) / 2.0\n",
        "        if df(midpoint) == 0 or (b - a) / 2.0 < tol:\n",
        "            return midpoint\n",
        "        elif df(a) * df(midpoint) < 0:\n",
        "            b = midpoint\n",
        "        else:\n",
        "            a = midpoint\n",
        "        iter_count += 1\n",
        "    return (a + b) / 2.0\n",
        "\n",
        "\n",
        "\n",
        "\n",
        "# Define the interval\n",
        "a = -2  # Start of interval\n",
        "b = 2  # End of interval\n",
        "\n",
        "# Find the root\n",
        "root = bisection_method(a, b)\n",
        "print(\"Root of the derivative (minimum):\", root)"
      ]
    },
    {
      "cell_type": "markdown",
      "source": [
        "Implement the Nelder-mead algorithm on the function $f(x,y) = (x-1)^2 + (y-x^2)^2$ starting at initial point $(-1,-1)$. Use the provided skeleton code (which also provides an initialization strategy and stopping criteria)."
      ],
      "metadata": {
        "id": "AjG3feAZTIYY"
      }
    },
    {
      "cell_type": "code",
      "source": [
        "from numpy import arange, meshgrid\n",
        "from matplotlib import pyplot as plt\n",
        "import numpy as np\n",
        "import copy\n",
        "\n",
        "# objective function\n",
        "def f(x):\n",
        "  # Rosenbrock function\n",
        "  return (x[0]-1)**2 + 1*(x[1]-x[0]**2)**2\n",
        "\n",
        "xinit = [-1.0,-1.0]    # initialization\n",
        "\n",
        "maxiter = 100\n",
        "\n",
        "# Implement Nelder mead\n",
        "n = len(xinit)\n",
        "prev_best = f(xinit)\n",
        "no_impr = 0   # count iterations without improvement\n",
        "res = [[xinit, prev_best]]\n",
        "\n",
        "for i in range(n):\n",
        "  u = xinit.copy()\n",
        "  u[i] = u[i] + 1\n",
        "  res.append([u, f(u)])\n",
        "\n",
        "\n",
        "for iter in range(maxiter):\n",
        "  res.sort(key=lambda x: x[1])\n",
        "  best = res[0][1]\n",
        "\n",
        "  print('...best so far:', best)\n",
        "\n",
        "  if best < prev_best - 1e-6:\n",
        "      no_impr = 0\n",
        "      prev_best = best\n",
        "  else:\n",
        "      no_impr += 1\n",
        "\n",
        "  if no_impr >= 10:\n",
        "    print(res[0])\n",
        "    break\n",
        "\n",
        "  x0 = np.mean([t[0] for t in res[:-1]], axis=0)\n",
        "\n",
        "  # reflection\n",
        "  xr = x0 + (x0 - res[-1][0])    #\n",
        "  rscore = f(xr) #\n",
        "  if res[0][1] <= rscore < res[-2][1]:\n",
        "    res[-1] = [xr, rscore]\n",
        "    print('reflection')\n",
        "    continue\n",
        "\n",
        "  # expansion\n",
        "  if rscore < res[0][1]:\n",
        "    xe = x0 + 2 * (xr - x0)   #\n",
        "    escore = f(xe) #\n",
        "    res[-1] = [xe, escore] if escore < rscore else [xr, rscore]\n",
        "    print('expansion')\n",
        "    continue\n",
        "\n",
        "  # contraction\n",
        "  if rscore < res[-1][1]:\n",
        "    xc = x0 + 0.5 * (res[-1][0] - x0)  #\n",
        "    cscore =  f(xc)#\n",
        "    if cscore < rscore:\n",
        "      res[-1] = [xc, cscore]\n",
        "      print('contraction (out)')\n",
        "      continue\n",
        "  else:\n",
        "    xc = x0 + 0.5 * (res[-1][0] - x0)  #\n",
        "    cscore = f(xc) #\n",
        "    if cscore < res[-1][1]:\n",
        "      res[-1] = [xc, cscore]\n",
        "      print('contraction (in)')\n",
        "      continue\n",
        "\n",
        "  # reduction\n",
        "  best_point = res[0][0]\n",
        "  res = [[best_point, f(best_point)]] + [\n",
        "        [best_point + 0.5 * (x[0] - best_point), f(best_point + 0.5 * (x[0] - best_point))]\n",
        "        for x in res[1:]]\n",
        "  print('reduction')"
      ],
      "metadata": {
        "id": "a6M1GV2dTLT6",
        "colab": {
          "base_uri": "https://localhost:8080/"
        },
        "outputId": "2c95c431-1c6b-4b51-cfcb-98567ecc2ba7"
      },
      "execution_count": 17,
      "outputs": [
        {
          "output_type": "stream",
          "name": "stdout",
          "text": [
            "...best so far: 2.0\n",
            "expansion\n",
            "...best so far: 0.3125\n",
            "contraction (in)\n",
            "...best so far: 0.3125\n",
            "contraction (in)\n",
            "...best so far: 0.3125\n",
            "reflection\n",
            "...best so far: 0.3125\n",
            "contraction (out)\n",
            "...best so far: 0.3125\n",
            "expansion\n",
            "...best so far: 0.11540741100907326\n",
            "contraction (in)\n",
            "...best so far: 0.10588176573219243\n",
            "contraction (in)\n",
            "...best so far: 0.07936648010223735\n",
            "contraction (in)\n",
            "...best so far: 0.05442648042820175\n",
            "reflection\n",
            "...best so far: 0.05442648042820175\n",
            "expansion\n",
            "...best so far: 0.025183184894618904\n",
            "contraction (in)\n",
            "...best so far: 0.018702782788110106\n",
            "expansion\n",
            "...best so far: 0.0047571512259504825\n",
            "contraction (in)\n",
            "...best so far: 0.0047571512259504825\n",
            "expansion\n",
            "...best so far: 0.0007421913171681274\n",
            "contraction (out)\n",
            "...best so far: 0.0007421913171681274\n",
            "contraction (in)\n",
            "...best so far: 0.0007421913171681274\n",
            "expansion\n",
            "...best so far: 0.0003961729698591024\n",
            "contraction (in)\n",
            "...best so far: 0.00015313007991820228\n",
            "contraction (in)\n",
            "...best so far: 0.00013668089705697392\n",
            "contraction (in)\n",
            "...best so far: 5.4079193372826576e-05\n",
            "contraction (in)\n",
            "...best so far: 1.2978852501343657e-05\n",
            "contraction (out)\n",
            "...best so far: 1.2978852501343657e-05\n",
            "contraction (in)\n",
            "...best so far: 1.2978852501343657e-05\n",
            "contraction (out)\n",
            "...best so far: 1.2978852501343657e-05\n",
            "expansion\n",
            "...best so far: 2.6937839599030005e-06\n",
            "contraction (in)\n",
            "...best so far: 6.870210893398655e-07\n",
            "contraction (out)\n",
            "...best so far: 6.870210893398655e-07\n",
            "reflection\n",
            "...best so far: 6.870210893398655e-07\n",
            "contraction (in)\n",
            "...best so far: 4.0414860688359597e-07\n",
            "contraction (out)\n",
            "...best so far: 4.0414860688359597e-07\n",
            "contraction (in)\n",
            "...best so far: 1.6092341121397415e-07\n",
            "reflection\n",
            "...best so far: 1.6092341121397415e-07\n",
            "contraction (out)\n",
            "...best so far: 1.151788576566738e-07\n",
            "contraction (in)\n",
            "...best so far: 4.271031197807942e-08\n",
            "contraction (in)\n",
            "...best so far: 2.4654388982584445e-08\n",
            "expansion\n",
            "...best so far: 1.7558701992510372e-08\n",
            "[array([1.00011097, 1.00014953]), 1.7558701992510372e-08]\n"
          ]
        }
      ]
    },
    {
      "cell_type": "markdown",
      "source": [
        "Consider the dual number code introduced in the slides. Define sine and cosine such that the given code works. Do NOT use Taylor series expansion of sine and cosine since we do not want to incur any truncation errors."
      ],
      "metadata": {
        "id": "0ZsgBr4MlsAG"
      }
    },
    {
      "cell_type": "code",
      "source": [],
      "metadata": {
        "id": "WSU_CoX3ltrq"
      },
      "execution_count": null,
      "outputs": []
    },
    {
      "cell_type": "code",
      "execution_count": 18,
      "metadata": {
        "colab": {
          "base_uri": "https://localhost:8080/"
        },
        "id": "be7_N4dJIZEY",
        "outputId": "c0e2615a-3f11-4187-e7c5-79c711d88d09"
      },
      "outputs": [
        {
          "output_type": "stream",
          "name": "stdout",
          "text": [
            "f(x) =  1.1453019413887564 f'(x) = -2.0952284050216665\n"
          ]
        }
      ],
      "source": [
        "from math import sin, cos\n",
        "class Dual:\n",
        "    def __init__(self, a, b=0):\n",
        "        if isinstance(a, Dual):\n",
        "            self.a, self.b = a.a, a.b\n",
        "        else:\n",
        "            self.a, self.b = a, b\n",
        "\n",
        "    def __str__(self):\n",
        "        return f\"Dual({self.a}, {self.b})\"\n",
        "\n",
        "    def __add__(self, other):\n",
        "        other = Dual(other)\n",
        "        new_a = self.a + other.a\n",
        "        new_b = self.b + other.b\n",
        "        return Dual(new_a, new_b)\n",
        "\n",
        "    def __sub__(self, other):\n",
        "        other = Dual(other)\n",
        "        new_a = self.a - other.a\n",
        "        new_b = self.b - other.b\n",
        "        return Dual(new_a, new_b)\n",
        "\n",
        "    def __mul__(self, other):\n",
        "        other = Dual(other)\n",
        "        new_a = self.a * other.a\n",
        "        new_b = self.b * other.a + self.a * other.b\n",
        "        return Dual(new_a, new_b)\n",
        "\n",
        "    def __truediv__(self, other):\n",
        "        other = Dual(other)\n",
        "        if other.a == 0:\n",
        "            raise ZeroDivisionError(\"Division by zero\")\n",
        "        new_a = self.a / other.a\n",
        "        new_b = (self.b * other.a - self.a * other.b) / (other.a ** 2)\n",
        "        return Dual(new_a, new_b)\n",
        "\n",
        "def cube(x):\n",
        "    return x * x * x\n",
        "\n",
        "def sine(x):\n",
        "  return Dual(sin(x.a), x.b * cos(x.a))\n",
        "\n",
        "def cosine(x):\n",
        "  return Dual(cos(x.a), -x.b * sin(x.a))\n",
        "\n",
        "def sqrt(x):\n",
        "    t = x\n",
        "    for _ in range(10):\n",
        "        t = (t + x / t) / 2\n",
        "    return t\n",
        "\n",
        "f = lambda x: cosine(sqrt(x)) + sine(cube(x))\n",
        "\n",
        "df = f(Dual(2.0,1))\n",
        "\n",
        "print('f(x) = ',df.a,'f\\'(x) =',df.b)"
      ]
    }
  ]
}